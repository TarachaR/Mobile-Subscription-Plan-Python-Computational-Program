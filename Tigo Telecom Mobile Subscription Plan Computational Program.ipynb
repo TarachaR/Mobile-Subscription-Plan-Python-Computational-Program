{
 "cells": [
  {
   "cell_type": "markdown",
   "metadata": {
    "colab_type": "text",
    "id": "C0MVEA2p5aPF"
   },
   "source": [
    "# Tigo Telecom Mobile Subscription Plan Computational Program"
   ]
  },
  {
   "cell_type": "markdown",
   "metadata": {},
   "source": [
    "## Author: Richard Taracha\n",
    "\n",
    "### Date: 9/2/2020"
   ]
  },
  {
   "cell_type": "code",
   "execution_count": 4,
   "metadata": {
    "colab": {
     "base_uri": "https://localhost:8080/",
     "height": 51
    },
    "colab_type": "code",
    "executionInfo": {
     "elapsed": 13029,
     "status": "ok",
     "timestamp": 1593955601798,
     "user": {
      "displayName": "Richard Taracha",
      "photoUrl": "https://lh3.googleusercontent.com/a-/AOh14GgyClc5lXIWr-_stVCMwkeWbbFfQtCzOliJ7jX66g=s64",
      "userId": "10719054537440219907"
     },
     "user_tz": -180
    },
    "id": "tMq41k-e5VNR",
    "outputId": "9f053ab1-b5b1-4c30-d42a-ab4ff20f46bb"
   },
   "outputs": [
    {
     "name": "stdout",
     "output_type": "stream",
     "text": [
      "Enter your minutes used: 89\n",
      "Enter your texts used: 23\n"
     ]
    }
   ],
   "source": [
    "\n",
    "# Use the input() function to capture minutes and texts used for the billing period\n",
    "\n",
    "g = input(\"Enter your minutes used: \")\n",
    "h = input(\"Enter your texts used: \")\n",
    "\n",
    "# Creating a dictionary of input data\n",
    "mobile_sub = {'minutes': g,\n",
    "              'texts': h\n",
    "                \n",
    "               }"
   ]
  },
  {
   "cell_type": "code",
   "execution_count": 5,
   "metadata": {
    "colab": {
     "base_uri": "https://localhost:8080/",
     "height": 153
    },
    "colab_type": "code",
    "executionInfo": {
     "elapsed": 994,
     "status": "ok",
     "timestamp": 1593955608175,
     "user": {
      "displayName": "Richard Taracha",
      "photoUrl": "https://lh3.googleusercontent.com/a-/AOh14GgyClc5lXIWr-_stVCMwkeWbbFfQtCzOliJ7jX66g=s64",
      "userId": "10719054537440219907"
     },
     "user_tz": -180
    },
    "id": "b0p2faHi5eHP",
    "outputId": "e8562ced-e69d-4069-d184-e9e95b9273d1"
   },
   "outputs": [
    {
     "name": "stdout",
     "output_type": "stream",
     "text": [
      "DEER Customer, please see below all charges on your account:\n",
      " Minutes Used: 89\n",
      " Texts Used: 23\n",
      " Additional Minutes: 0\n",
      " Additional Texts: 0\n",
      " Basecharge: $10.0\n",
      " Tax Applied: 14% \n",
      " Total Charges: $11.4\n"
     ]
    }
   ],
   "source": [
    "# Defining a function that takes in the dictionary and provides output\n",
    "\n",
    "def evaluateCharges():\n",
    "    \n",
    "  minutes_used = int(mobile_sub['minutes'])\n",
    "  texts_used = int(mobile_sub['texts'])\n",
    "\n",
    "  # Initial basecharge for 200 minutes of airtime and 200 text messages. \n",
    "  # Additional minutes and text messages charged separately\n",
    "  basecharge = 10\n",
    "\n",
    "  # Performing different actions based on the conditions indicated in the question.\n",
    "  if minutes_used > 200:\n",
    "      aditional_minutes = minutes_used - 200\n",
    "  else: \n",
    "      aditional_minutes = 0\n",
    "  basecharge = basecharge + (aditional_minutes * 0.03)\n",
    "      \n",
    "  if texts_used > 200:\n",
    "      aditional_texts = texts_used - 200\n",
    "  else:\n",
    "      aditional_texts = 0\n",
    "  basecharge = basecharge + (aditional_texts * 0.001)\n",
    "  \n",
    "    \n",
    "  # Using 1.14 because tax is 14% ontop of the basecharge which is 100%\n",
    "  taxApplied = basecharge * 1.14\n",
    "\n",
    "  # We can choose to format our basecharg  2dp\n",
    "  taxApplied =  round(taxApplied ,2) \n",
    "\n",
    "  # We then create a string with \n",
    "  output_string = 'DEER Customer, please see below all charges on your account:\\n Minutes Used: ' +  str(minutes_used) + '\\n Texts Used: ' + str(texts_used) + '\\n Additional Minutes: ' + str(aditional_minutes) + '\\n Additional Texts: ' + str(aditional_texts) + '\\n Basecharge: $' + str(basecharge) + '\\n Tax Applied: 14% \\n Total Charges: $' +  str(taxApplied)\n",
    "\n",
    "  # the returning our output string\n",
    "  print(output_string)\n",
    "    \n",
    "# Then calling our function and passing our dictionary\n",
    "evaluateCharges()"
   ]
  }
 ],
 "metadata": {
  "colab": {
   "collapsed_sections": [],
   "name": "Python Basics for Data Science Project Solution [Richard Taracha].ipynb",
   "provenance": [
    {
     "file_id": "1G2xv2lb1x9yGXsFFe6PtbLaPBrLbiDk2",
     "timestamp": 1593955075291
    },
    {
     "file_id": "12_kUQ-SazdZJggfaRiI8WfE51yXzFFXl",
     "timestamp": 1593954475088
    },
    {
     "file_id": "1EI8XMwXG3se-ywPKybclUVdx78RbM3Sp",
     "timestamp": 1593800116338
    },
    {
     "file_id": "1Eo2mjoXovlyKx1bRHQ99gTGoltD6AOND",
     "timestamp": 1593800068670
    }
   ],
   "toc_visible": true
  },
  "kernelspec": {
   "display_name": "Python 3",
   "language": "python",
   "name": "python3"
  },
  "language_info": {
   "codemirror_mode": {
    "name": "ipython",
    "version": 3
   },
   "file_extension": ".py",
   "mimetype": "text/x-python",
   "name": "python",
   "nbconvert_exporter": "python",
   "pygments_lexer": "ipython3",
   "version": "3.7.9"
  }
 },
 "nbformat": 4,
 "nbformat_minor": 1
}
